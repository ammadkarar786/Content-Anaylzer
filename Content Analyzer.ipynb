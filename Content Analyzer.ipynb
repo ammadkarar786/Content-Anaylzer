{
 "cells": [
  {
   "cell_type": "code",
   "execution_count": 2,
   "id": "7f7b5c07",
   "metadata": {},
   "outputs": [
    {
     "name": "stderr",
     "output_type": "stream",
     "text": [
      "2023-10-25 21:26:28.292 \n",
      "  \u001b[33m\u001b[1mWarning:\u001b[0m to view this Streamlit app on a browser, run it with the following\n",
      "  command:\n",
      "\n",
      "    streamlit run C:\\Users\\ammad\\anaconda3\\lib\\site-packages\\ipykernel_launcher.py [ARGUMENTS]\n"
     ]
    }
   ],
   "source": [
    "import streamlit as st\n",
    "# Title for your web app\n",
    "st.title(\"Social Media Content Analyzer\")\n",
    "\n",
    "# Main content\n",
    "st.write(\"Welcome to the Social Media Content Analyzer. This is a basic setup.\")\n"
   ]
  },
  {
   "cell_type": "code",
   "execution_count": 3,
   "id": "6952d0e4",
   "metadata": {},
   "outputs": [
    {
     "data": {
      "text/plain": [
       "DeltaGenerator()"
      ]
     },
     "execution_count": 3,
     "metadata": {},
     "output_type": "execute_result"
    }
   ],
   "source": [
    "st.markdown(\n",
    "    \"\"\"\n",
    "    <style>\n",
    "    body {\n",
    "        background-color: #e6f7ff;\n",
    "    }\n",
    "    </style>\n",
    "    \"\"\",\n",
    "    unsafe_allow_html=True\n",
    ")\n"
   ]
  },
  {
   "cell_type": "code",
   "execution_count": 4,
   "id": "0c2abae0",
   "metadata": {},
   "outputs": [
    {
     "data": {
      "text/plain": [
       "DeltaGenerator()"
      ]
     },
     "execution_count": 4,
     "metadata": {},
     "output_type": "execute_result"
    }
   ],
   "source": [
    "# Add an image with a description\n",
    "st.image(\"https://example.com/your-image.png\", caption=\"Your Logo\", use_column_width=True)\n"
   ]
  },
  {
   "cell_type": "code",
   "execution_count": 5,
   "id": "c4b716e8",
   "metadata": {},
   "outputs": [
    {
     "data": {
      "text/plain": [
       "DeltaGenerator()"
      ]
     },
     "execution_count": 5,
     "metadata": {},
     "output_type": "execute_result"
    }
   ],
   "source": [
    "st.markdown(\"## **Social Media Content Analyzer**\", unsafe_allow_html=True)\n"
   ]
  },
  {
   "cell_type": "code",
   "execution_count": 6,
   "id": "46c59f10",
   "metadata": {},
   "outputs": [
    {
     "data": {
      "text/plain": [
       "False"
      ]
     },
     "execution_count": 6,
     "metadata": {},
     "output_type": "execute_result"
    }
   ],
   "source": [
    "st.write(\n",
    "    \"\"\"<style>\n",
    "    div.stButton > button {\n",
    "        background-color: #ff9900;\n",
    "        color: white;\n",
    "    }\n",
    "    </style>\n",
    "    \"\"\"\n",
    ")\n",
    "# Create a button with the specified style\n",
    "st.button(\"Click me\")\n"
   ]
  },
  {
   "cell_type": "code",
   "execution_count": 7,
   "id": "1780551b",
   "metadata": {},
   "outputs": [
    {
     "name": "stderr",
     "output_type": "stream",
     "text": [
      "[nltk_data] Downloading package vader_lexicon to\n",
      "[nltk_data]     C:\\Users\\ammad\\AppData\\Roaming\\nltk_data...\n"
     ]
    },
    {
     "data": {
      "text/plain": [
       "True"
      ]
     },
     "execution_count": 7,
     "metadata": {},
     "output_type": "execute_result"
    }
   ],
   "source": [
    "import nltk\n",
    "from nltk.sentiment.vader import SentimentIntensityAnalyzer\n",
    "\n",
    "nltk.download('punkt')\n"
   ]
  },
  {
   "cell_type": "code",
   "execution_count": 8,
   "id": "09392dec",
   "metadata": {},
   "outputs": [],
   "source": [
    "def analyze_sentiment(text):\n",
    "    sid = SentimentIntensityAnalyzer()\n",
    "    sentiment_scores = sid.polarity_scores(text)\n",
    "\n",
    "    if sentiment_scores[\"compound\"] >= 0.05:\n",
    "        return \"Positive\"\n",
    "    elif sentiment_scores[\"compound\"] <= -0.05:\n",
    "        return \"Negative\"\n",
    "    else:\n",
    "        return \"Neutral\"\n",
    "\n",
    "    "
   ]
  },
  {
   "cell_type": "code",
   "execution_count": 11,
   "id": "16d9a123",
   "metadata": {},
   "outputs": [],
   "source": [
    "# Text input box\n",
    "user_text = st.text_area(\"Enter the text you want to analyzeS\")\n",
    "\n",
    "if st.button(\"Analyze Sentiment\"):\n",
    "    if user_text:\n",
    "        sentiment = analyze_sentiment(user_text)\n",
    "        st.write(f\"Sentiment: {sentiment}\")\n",
    "    else:\n",
    "        st.write(\"Please enter some text to analyze.\")\n",
    "    # Display sentiment with different colors\n",
    "    if sentiment == \"Positive\":\n",
    "        st.markdown(\"<p style='color: green;'>Sentiment: Positive</p>\", unsafe_allow_html=True)\n",
    "    elif sentiment == \"Negative\":\n",
    "        st.markdown(\"<p style='color: red;'>Sentiment: Negative</p>\", unsafe_allow_html=True)\n",
    "    else:\n",
    "        st.markdown(\"<p style='color: blue;'>Sentiment: Neutral</p>\", unsafe_allow_html=True)\n",
    "                                   \n"
   ]
  },
  {
   "cell_type": "code",
   "execution_count": 12,
   "id": "df9a8f12",
   "metadata": {},
   "outputs": [],
   "source": [
    "from nltk.tokenize import word_tokenize\n",
    "from collections import Counter\n"
   ]
  },
  {
   "cell_type": "code",
   "execution_count": 13,
   "id": "a918a703",
   "metadata": {},
   "outputs": [],
   "source": [
    "def analyze_keywords_and_hashtags(text):\n",
    "    # Tokenize the text\n",
    "    words = word_tokenize(text)\n",
    "    \n",
    "    # Filter for keywords and hashtags\n",
    "    keywords = [word for word in words if word.isalnum()]\n",
    "    hashtags = [word for word in words if word.startswith('#')]\n",
    "\n",
    "    # Count the occurrences of each keyword and hashtag\n",
    "    keyword_counts = Counter(keywords)\n",
    "    hashtag_counts = Counter(hashtags)\n",
    "\n",
    "    return keyword_counts, hashtag_counts\n"
   ]
  },
  {
   "cell_type": "code",
   "execution_count": 16,
   "id": "2bfbe7f0",
   "metadata": {},
   "outputs": [],
   "source": [
    "# Text input box\n",
    "user_text = st.text_area(\"Enter the text you want to analyze:\")\n",
    "\n",
    "if st.button(\"Analyze Keywords and Hashtags\"):\n",
    "    if user_text:\n",
    "        keyword_counts, hashtag_counts = analyze_keywords_and_hashtags(user_text)\n",
    "        st.write(\"Top Keywords:\")\n",
    "        st.write(keyword_counts.most_common(5))\n",
    "        st.write(\"Top Hashtags:\")\n",
    "        st.write(hashtag_counts.most_common(5))\n",
    "    else:\n",
    "        st.write(\"Please enter some text to analyze.\")\n",
    "    # Display top keywords with formatting\n",
    "    st.markdown(\"<h3>Top Keywords:</h3>\", unsafe_allow_html=True)\n",
    "    st.write(keyword_counts.most_common(5))\n",
    "\n",
    "    # Display top hashtags with formatting\n",
    "    st.markdown(\"<h3>Top Hashtags:</h3>\", unsafe_allow_html=True)\n",
    "    st.write(hashtag_counts.most_common(5))\n",
    "\n"
   ]
  },
  {
   "cell_type": "code",
   "execution_count": 15,
   "id": "7cb72f7c",
   "metadata": {},
   "outputs": [
    {
     "ename": "NameError",
     "evalue": "name 'keyword_counts' is not defined",
     "output_type": "error",
     "traceback": [
      "\u001b[1;31m---------------------------------------------------------------------------\u001b[0m",
      "\u001b[1;31mNameError\u001b[0m                                 Traceback (most recent call last)",
      "\u001b[1;32m~\\AppData\\Local\\Temp\\ipykernel_13108\\2509555248.py\u001b[0m in \u001b[0;36m<module>\u001b[1;34m\u001b[0m\n\u001b[0;32m      1\u001b[0m \u001b[1;31m# Display top keywords with formatting\u001b[0m\u001b[1;33m\u001b[0m\u001b[1;33m\u001b[0m\u001b[0m\n\u001b[0;32m      2\u001b[0m \u001b[0mst\u001b[0m\u001b[1;33m.\u001b[0m\u001b[0mmarkdown\u001b[0m\u001b[1;33m(\u001b[0m\u001b[1;34m\"<h3>Top Keywords:</h3>\"\u001b[0m\u001b[1;33m,\u001b[0m \u001b[0munsafe_allow_html\u001b[0m\u001b[1;33m=\u001b[0m\u001b[1;32mTrue\u001b[0m\u001b[1;33m)\u001b[0m\u001b[1;33m\u001b[0m\u001b[1;33m\u001b[0m\u001b[0m\n\u001b[1;32m----> 3\u001b[1;33m \u001b[0mst\u001b[0m\u001b[1;33m.\u001b[0m\u001b[0mwrite\u001b[0m\u001b[1;33m(\u001b[0m\u001b[0mkeyword_counts\u001b[0m\u001b[1;33m.\u001b[0m\u001b[0mmost_common\u001b[0m\u001b[1;33m(\u001b[0m\u001b[1;36m5\u001b[0m\u001b[1;33m)\u001b[0m\u001b[1;33m)\u001b[0m\u001b[1;33m\u001b[0m\u001b[1;33m\u001b[0m\u001b[0m\n\u001b[0m\u001b[0;32m      4\u001b[0m \u001b[1;33m\u001b[0m\u001b[0m\n\u001b[0;32m      5\u001b[0m \u001b[1;31m# Display top hashtags with formatting\u001b[0m\u001b[1;33m\u001b[0m\u001b[1;33m\u001b[0m\u001b[0m\n",
      "\u001b[1;31mNameError\u001b[0m: name 'keyword_counts' is not defined"
     ]
    }
   ],
   "source": []
  },
  {
   "cell_type": "code",
   "execution_count": null,
   "id": "ff71ae44",
   "metadata": {},
   "outputs": [],
   "source": []
  }
 ],
 "metadata": {
  "kernelspec": {
   "display_name": "Python 3 (ipykernel)",
   "language": "python",
   "name": "python3"
  },
  "language_info": {
   "codemirror_mode": {
    "name": "ipython",
    "version": 3
   },
   "file_extension": ".py",
   "mimetype": "text/x-python",
   "name": "python",
   "nbconvert_exporter": "python",
   "pygments_lexer": "ipython3",
   "version": "3.9.13"
  }
 },
 "nbformat": 4,
 "nbformat_minor": 5
}
